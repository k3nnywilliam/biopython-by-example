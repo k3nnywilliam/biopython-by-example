{
 "cells": [
  {
   "cell_type": "markdown",
   "id": "9e285e20",
   "metadata": {},
   "source": [
    "First of all, it is assumed that you have already known some basic Python operations and data structures."
   ]
  },
  {
   "cell_type": "code",
   "execution_count": 23,
   "id": "sustained-module",
   "metadata": {},
   "outputs": [],
   "source": [
    "from Bio.Seq import Seq\n",
    "from Bio import SeqIO"
   ]
  },
  {
   "cell_type": "markdown",
   "id": "76b1d38c",
   "metadata": {},
   "source": [
    "### Sequence"
   ]
  },
  {
   "cell_type": "code",
   "execution_count": 29,
   "id": "extreme-sullivan",
   "metadata": {},
   "outputs": [],
   "source": [
    "seq = Seq(\"GATCGATGGGCCTATATAGGATCGAAAATCGC\")"
   ]
  },
  {
   "cell_type": "code",
   "execution_count": 30,
   "id": "7cf549ee",
   "metadata": {},
   "outputs": [
    {
     "data": {
      "text/plain": [
       "Seq('GATCGATGGGCCTATATAGGATCGAAAATCGC')"
      ]
     },
     "execution_count": 30,
     "metadata": {},
     "output_type": "execute_result"
    }
   ],
   "source": [
    "seq"
   ]
  },
  {
   "cell_type": "code",
   "execution_count": 31,
   "id": "97a9bc3d",
   "metadata": {
    "scrolled": true
   },
   "outputs": [
    {
     "data": {
      "text/plain": [
       "32"
      ]
     },
     "execution_count": 31,
     "metadata": {},
     "output_type": "execute_result"
    }
   ],
   "source": [
    "len(seq)"
   ]
  },
  {
   "cell_type": "markdown",
   "id": "d7fa9ee6",
   "metadata": {},
   "source": [
    "We can also turn the Seq object into a string:"
   ]
  },
  {
   "cell_type": "code",
   "execution_count": 59,
   "id": "05004e6e",
   "metadata": {
    "scrolled": true
   },
   "outputs": [
    {
     "data": {
      "text/plain": [
       "'GATCGATGGGCCTATATAGGATCGAAAATCGC'"
      ]
     },
     "execution_count": 59,
     "metadata": {},
     "output_type": "execute_result"
    }
   ],
   "source": [
    "str(seq)"
   ]
  },
  {
   "cell_type": "markdown",
   "id": "57cd22de",
   "metadata": {},
   "source": [
    "If we have a sequence that does not have a uniform letter case, we can use the following methods to change to either upper or lower case:"
   ]
  },
  {
   "cell_type": "code",
   "execution_count": 64,
   "id": "72a895bc",
   "metadata": {
    "scrolled": true
   },
   "outputs": [
    {
     "data": {
      "text/plain": [
       "Seq('ACTGGATCC')"
      ]
     },
     "execution_count": 64,
     "metadata": {},
     "output_type": "execute_result"
    }
   ],
   "source": [
    "seq2 = Seq('actggATCC')\n",
    "seq2.upper()"
   ]
  },
  {
   "cell_type": "code",
   "execution_count": 65,
   "id": "39d1269a",
   "metadata": {},
   "outputs": [
    {
     "data": {
      "text/plain": [
       "Seq('actggatcc')"
      ]
     },
     "execution_count": 65,
     "metadata": {},
     "output_type": "execute_result"
    }
   ],
   "source": [
    "seq2.lower()"
   ]
  },
  {
   "cell_type": "markdown",
   "id": "e5b1a1b8",
   "metadata": {},
   "source": [
    "### Sequence slicing"
   ]
  },
  {
   "cell_type": "markdown",
   "id": "b6cb1963",
   "metadata": {},
   "source": [
    "There are two ways to slice the sequences. The first way is using the usual Python slicing where you have to specify the start and end position of the elements:"
   ]
  },
  {
   "cell_type": "code",
   "execution_count": 63,
   "id": "170ec4e0",
   "metadata": {
    "scrolled": true
   },
   "outputs": [
    {
     "data": {
      "text/plain": [
       "Seq('GATGGGCCTATATAGG')"
      ]
     },
     "execution_count": 63,
     "metadata": {},
     "output_type": "execute_result"
    }
   ],
   "source": [
    "seq[4:20]"
   ]
  },
  {
   "cell_type": "markdown",
   "id": "bed36d0c",
   "metadata": {},
   "source": [
    "The second method is to specify the start codon position and then the number of steps/strides. In Python, we can denote the start position, end position and step size like so:\n"
   ]
  },
  {
   "cell_type": "markdown",
   "id": "f92cc437",
   "metadata": {},
   "source": [
    "seq[start:end:step]"
   ]
  },
  {
   "cell_type": "code",
   "execution_count": 43,
   "id": "14233c49",
   "metadata": {},
   "outputs": [
    {
     "data": {
      "text/plain": [
       "Seq('GATCGATGGGCCTATATAGGATCGAAAATCGC')"
      ]
     },
     "execution_count": 43,
     "metadata": {},
     "output_type": "execute_result"
    }
   ],
   "source": [
    "#Let's have a look at the sequence again\n",
    "seq"
   ]
  },
  {
   "cell_type": "markdown",
   "id": "14c8ddff",
   "metadata": {},
   "source": [
    "In this example, we start at position 0 and take every 3rd item from the sequence (take note of the double colon):"
   ]
  },
  {
   "cell_type": "code",
   "execution_count": 52,
   "id": "5116cb19",
   "metadata": {},
   "outputs": [
    {
     "data": {
      "text/plain": [
       "Seq('GCTGTAGTAAG')"
      ]
     },
     "execution_count": 52,
     "metadata": {},
     "output_type": "execute_result"
    }
   ],
   "source": [
    "seq[::3]"
   ]
  },
  {
   "cell_type": "markdown",
   "id": "95914b46",
   "metadata": {},
   "source": [
    "In another example, we start from position 2 and take a stride of 4:"
   ]
  },
  {
   "cell_type": "code",
   "execution_count": 51,
   "id": "caf2b91a",
   "metadata": {},
   "outputs": [
    {
     "data": {
      "text/plain": [
       "Seq('TTCTGCAG')"
      ]
     },
     "execution_count": 51,
     "metadata": {},
     "output_type": "execute_result"
    }
   ],
   "source": [
    "seq[2::4]"
   ]
  },
  {
   "cell_type": "markdown",
   "id": "b01f9bab",
   "metadata": {},
   "source": [
    "Since we can treat the Seq object as strings, we can also reverse the sequence:"
   ]
  },
  {
   "cell_type": "code",
   "execution_count": 57,
   "id": "cc253cd6",
   "metadata": {},
   "outputs": [
    {
     "data": {
      "text/plain": [
       "Seq('CGCTAAAAGCTAGGATATATCCGGGTAGCTAG')"
      ]
     },
     "execution_count": 57,
     "metadata": {},
     "output_type": "execute_result"
    }
   ],
   "source": [
    "seq[::-1]"
   ]
  },
  {
   "cell_type": "markdown",
   "id": "8e6d77f8",
   "metadata": {},
   "source": [
    "### Example of parsing and reading sequences"
   ]
  },
  {
   "cell_type": "code",
   "execution_count": 27,
   "id": "ba8aaf21",
   "metadata": {},
   "outputs": [],
   "source": [
    "data = open(\"../data/test-data.fasta\")"
   ]
  },
  {
   "cell_type": "code",
   "execution_count": 28,
   "id": "f39590aa",
   "metadata": {
    "scrolled": true
   },
   "outputs": [
    {
     "name": "stdout",
     "output_type": "stream",
     "text": [
      "Id: sp|P25730|FMS1_ECOLI\n",
      "Name: sp|P25730|FMS1_ECOLI\n",
      "Description: sp|P25730|FMS1_ECOLI CS1 fimbrial subunit A precursor (CS1 pilin)\n",
      "Annotations: {}\n",
      "Sequence Data: MKLKKTIGAMALATLFATMGASAVEKTISVTASVDPTVDLLQSDGSALPNSVALTYSPAVNNFEAHTINTVVHTNDSDKGVVVKLSADPVLSNVLNPTLQIPVSVNFAGKPLSTTGITIDSNDLNFASSGVNKVSSTQKLSIHADATRVTGGALTAGQYQGLVSIILTKSTTTTTTTKGT\n",
      "Id: sp|P15488|FMS3_ECOLI\n",
      "Name: sp|P15488|FMS3_ECOLI\n",
      "Description: sp|P15488|FMS3_ECOLI CS3 fimbrial subunit A precursor (CS3 pilin)\n",
      "Annotations: {}\n",
      "Sequence Data: MLKIKYLLIGLSLSAMSSYSLAAAGPTLTKELALNVLSPAALDATWAPQDNLTLSNTGVSNTLVGVLTLSNTSIDTVSIASTNVSDTSKNGTVTFAHETNNSASFATTISTDNANITLDKNAGNTIVKTTNGSQLPTNLPLKFITTEGNEHLVSGNYRANITITSTIKGGGTKKGTTDKK\n"
     ]
    }
   ],
   "source": [
    "records = SeqIO.parse(data, \"fasta\")\n",
    "for record in records:\n",
    "    print(f\"Id: {record.id}\")\n",
    "    print(f\"Name: {record.name}\") \n",
    "    print(f\"Description: {record.description}\")\n",
    "    print(f\"Annotations: {record.annotations}\")\n",
    "    print(f\"Sequence Data: {record.seq}\")"
   ]
  },
  {
   "cell_type": "code",
   "execution_count": null,
   "id": "9363947c",
   "metadata": {},
   "outputs": [],
   "source": []
  }
 ],
 "metadata": {
  "kernelspec": {
   "display_name": "Python 3",
   "language": "python",
   "name": "python3"
  },
  "language_info": {
   "codemirror_mode": {
    "name": "ipython",
    "version": 3
   },
   "file_extension": ".py",
   "mimetype": "text/x-python",
   "name": "python",
   "nbconvert_exporter": "python",
   "pygments_lexer": "ipython3",
   "version": "3.8.8"
  }
 },
 "nbformat": 4,
 "nbformat_minor": 5
}
